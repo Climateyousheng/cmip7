{
 "cells": [
  {
   "cell_type": "markdown",
   "metadata": {},
   "source": [
    "# Processing historical GHGs concentrations"
   ]
  },
  {
   "cell_type": "code",
   "execution_count": null,
   "metadata": {},
   "outputs": [
    {
     "name": "stdout",
     "output_type": "stream",
     "text": [
      "               Unnamed: 0    CO2       CH4       N2O  CFC-12-eq  HFC-134a-eq\n",
      "v YEARS/GAS >                                                               \n",
      "1850.0                  0  4.318  0.447508  0.414762   0.089575     0.067456\n",
      "1880.0                  1  4.397  0.480976  0.421209   0.089575     0.067460\n",
      "1910.0                  2  4.547  0.539716  0.428880   0.089576     0.067584\n",
      "1940.0                  3  4.729  0.620184  0.436939   0.134512     0.072033\n",
      "1970.0                  4  4.933  0.781293  0.449820   1.378318     0.101940\n",
      "2000.0                  5  5.606  0.984442  0.479688   5.701884     0.368110\n",
      "2014.0                  6  6.038  1.014042  0.496746   5.693164     0.905359\n",
      "['Readme', 'historical-annualmean-Global', 'historical-Table', 'Ranking', 'picontrol-annualmean-Global', 'picontrol-Table', 'abrupt4x-annualmean-Global', '1pctCO2-annualmean-Global', '1pctCO2-Table', 'allGHGs-Global', 'allGHGs-NH', 'allGHGs-SH', 'CFC-12-eq', 'HFC-134a-eq', 'CFC-11-eq', 'CO2', 'CH4', 'N2O', 'HFC-134a', 'HFC-23', 'HFC-32', 'HFC-125', 'HFC-143a', 'HFC-152a', 'HFC-227ea', 'HFC-236fa', 'HFC-245fa', 'HFC-365mfc', 'HFC-43-10mee', 'NF3', 'SF6', 'SO2F2', 'CF4', 'C2F6', 'C3F8', 'C4F10', 'C5F12', 'C6F14', 'C7F16', 'C8F18', 'c-C4F8', 'CFC-12', 'CFC-11', 'CFC-113', 'CFC-114', 'CFC-115', 'HCFC-22', 'HCFC-141b', 'HCFC-142b', 'CH3CCl3', 'CCl4', 'CH3Cl', 'CH2Cl2', 'CHCl3', 'CH3Br', 'Halon-1211', 'Halon-1301', 'Halon-2402']\n"
     ]
    }
   ],
   "source": [
    "import pandas as pd\n",
    "import numpy as np\n",
    "\n",
    "file = pd.read_csv('../ghgs_in_MMR_global_mean.csv', index_col='v YEARS/GAS >')\n",
    "print(file)\n",
    "df_raw_ghgs = pd.ExcelFile('../forcings/GHGs/Supplementary_Table_UoM_GHGConcentrations-1-1-0_annualmeans_v2.xls',engine='xlrd',)\n",
    "print(df_raw_ghgs.sheet_names)\n",
    "df_ann_glb = pd.read_excel('../forcings/GHGs/Supplementary_Table_UoM_GHGConcentrations-1-1-0_annualmeans_v2.xls',sheet_name='historical-annualmean-Global',skiprows=20,index_col=0)"
   ]
  },
  {
   "cell_type": "code",
   "execution_count": 40,
   "metadata": {},
   "outputs": [
    {
     "data": {
      "text/plain": [
       "<bound method NDFrame.head of                       ppm          ppb       ppb.1        ppt      ppt.1  \\\n",
       "UNITS:                                                                     \n",
       "v YEARS/GAS >         CO2          CH4         N2O   HFC-134a     HFC-23   \n",
       "1850              284.317   808.249027  273.021049          0          0   \n",
       "1851              284.451   808.414105  273.094049          0          0   \n",
       "1852              284.598   809.163128  273.168049          0          0   \n",
       "1853              284.731    810.40406  273.264048          0          0   \n",
       "...                   ...          ...         ...        ...        ...   \n",
       "2010           388.717029  1807.850678  323.140992  57.851537  23.296514   \n",
       "2011           390.944015  1813.070205   324.15898   62.84795  24.134216   \n",
       "2012           393.015993  1815.261234  325.004991  67.750872  24.988317   \n",
       "2013           395.724979  1822.580849  325.918993  74.770063  26.027622   \n",
       "2014           397.546977  1831.471005  326.987993  80.515729  26.890435   \n",
       "\n",
       "                  ppt.2      ppt.3      ppt.4     ppt.5      ppt.6  ...  \\\n",
       "UNITS:                                                              ...   \n",
       "v YEARS/GAS >    HFC-32    HFC-125   HFC-143a  HFC-152a  HFC-227ea  ...   \n",
       "1850           0.000218          0          0         0   0.000004  ...   \n",
       "1851           0.000221          0          0         0   0.000004  ...   \n",
       "1852           0.000223          0          0         0   0.000004  ...   \n",
       "1853           0.000226          0          0         0   0.000004  ...   \n",
       "...                 ...        ...        ...       ...        ...  ...   \n",
       "2010           3.920989   8.963194  10.426984  7.474034       0.65  ...   \n",
       "2011           5.171979  10.464805  11.921485  7.894732       0.74  ...   \n",
       "2012           5.642169  11.741206  12.845085  8.037666       0.83  ...   \n",
       "2013           7.502489  13.946606  14.522683  8.094252       0.93  ...   \n",
       "2014           8.336969  15.355008  15.252781  7.732658    1.00567  ...   \n",
       "\n",
       "                   ppt.33     ppt.34    ppt.35    ppt.36      ppt.37  \\\n",
       "UNITS:                                                                 \n",
       "v YEARS/GAS >       CH3Cl     CH2Cl2     CHCl3     CH3Br  Halon-1211   \n",
       "1850                457.0   6.912761         6  5.299998    0.004447   \n",
       "1851                457.0   6.912761         6  5.299998    0.004447   \n",
       "1852                457.0   6.912761         6  5.299998    0.004447   \n",
       "1853                457.0   6.912761         6  5.299998    0.004447   \n",
       "...                   ...        ...       ...       ...         ...   \n",
       "2010           535.310258  29.346548  8.949862  7.125164    4.121599   \n",
       "2011           534.165611  29.494615    8.9497  7.106488    4.048868   \n",
       "2012           537.653809  29.299616  8.843596  6.987857    3.964238   \n",
       "2013           539.620359  35.047884  9.249993  6.848845    3.861788   \n",
       "2014           539.542032  36.347557  9.901842   6.68609    3.753658   \n",
       "\n",
       "                   ppt.38      ppt.39       ppt.40       ppt.41      ppt.42  \n",
       "UNITS:                                                                       \n",
       "v YEARS/GAS >  Halon-1301  Halon-2402    CFC-12-eq  HFC-134a-eq   CFC-11-eq  \n",
       "1850                    0           0    16.512883     19.15331     32.1102  \n",
       "1851                    0           0    16.512883    19.153326    32.11021  \n",
       "1852                    0           0    16.512883    19.153344   32.110221  \n",
       "1853                    0           0    16.512883    19.153363   32.110232  \n",
       "...                   ...         ...          ...          ...         ...  \n",
       "2010              3.19607    0.458197  1054.368492   203.069071  768.764382  \n",
       "2011              3.23096    0.450772  1053.454456   216.233811  779.124172  \n",
       "2012              3.25254    0.443701  1051.974537   227.839314  787.766429  \n",
       "2013                3.306    0.436526  1051.735053   244.877023  801.302879  \n",
       "2014              3.29761    0.431062  1049.512878   257.064198  809.186477  \n",
       "\n",
       "[166 rows x 46 columns]>"
      ]
     },
     "execution_count": 40,
     "metadata": {},
     "output_type": "execute_result"
    }
   ],
   "source": [
    "df_ann_glb.head"
   ]
  },
  {
   "cell_type": "markdown",
   "metadata": {},
   "source": []
  }
 ],
 "metadata": {
  "kernelspec": {
   "display_name": "base",
   "language": "python",
   "name": "python3"
  },
  "language_info": {
   "codemirror_mode": {
    "name": "ipython",
    "version": 3
   },
   "file_extension": ".py",
   "mimetype": "text/x-python",
   "name": "python",
   "nbconvert_exporter": "python",
   "pygments_lexer": "ipython3",
   "version": "3.11.7"
  }
 },
 "nbformat": 4,
 "nbformat_minor": 2
}
